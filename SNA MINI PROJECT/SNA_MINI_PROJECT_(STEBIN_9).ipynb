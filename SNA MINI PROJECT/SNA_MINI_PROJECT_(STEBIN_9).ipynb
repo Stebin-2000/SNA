{
  "nbformat": 4,
  "nbformat_minor": 0,
  "metadata": {
    "colab": {
      "name": "SNA MINI PROJECT (STEBIN_9).ipynb",
      "provenance": []
    },
    "kernelspec": {
      "name": "python3",
      "display_name": "Python 3"
    },
    "language_info": {
      "name": "python"
    }
  },
  "cells": [
    {
      "cell_type": "code",
      "execution_count": 1,
      "metadata": {
        "id": "qWlE6GrhuU9C"
      },
      "outputs": [],
      "source": [
        "import tweepy\n",
        "from textblob import TextBlob\n",
        "import matplotlib.pyplot as plt"
      ]
    },
    {
      "cell_type": "code",
      "source": [
        "consumer_key = 'qHDlZqswgH4LoA8cUAiEKEXQs'\n",
        "consumer_secret = 'Wu9WL4PLJWj41Iu2hRfezqwChmHOVoYiMHz6NFu7ZMY1QNtgdq'\n",
        "access_token = '1512020358597324800-89OgoCg5zK8P4zI5mjCnvJ3tlUe0QJ'\n",
        "access_token_secret = 'YjiwwCMxZOUuGXbUxR08F2g48faizwRMtUiqrQ9sw36Xw'\n",
        "auth = tweepy.OAuthHandler(consumer_key,consumer_secret)\n",
        "auth.set_access_token(access_token, access_token_secret)\n",
        "api = tweepy.API(auth)\n",
        "search_string = input(\"Enter the topic on which you want to get tweets on: \")\n",
        "public_tweets = api.search(search_string)\n",
        "\n",
        "pos = 0\n",
        "neg = 0\n",
        "neu = 0\n",
        "\n",
        "for tweet in public_tweets:\n",
        "  print(tweet.text)\n",
        "\n",
        "  analysis = TextBlob(tweet.text)\n",
        "  print(analysis.sentiment)\n",
        "\n",
        "  if analysis.sentiment.polarity > 0:\n",
        "    print(\"Positive\")\n",
        "    pos += 1\n",
        "  \n",
        "  if analysis.sentiment.polarity == 0:\n",
        "    print(\"Neutral\")\n",
        "    neu += 1\n",
        "\n",
        "  if analysis.sentiment.polarity < 0:\n",
        "    print(\"Negative\")\n",
        "    neg += 1"
      ],
      "metadata": {
        "colab": {
          "base_uri": "https://localhost:8080/"
        },
        "id": "DSsLAyzR2UOf",
        "outputId": "7c0987ed-fc9f-4652-e002-2ae02bc6f4ed"
      },
      "execution_count": 12,
      "outputs": [
        {
          "output_type": "stream",
          "name": "stdout",
          "text": [
            "Enter the topic on which you want to get tweets on: war\n",
            "RT @TheIntPodcast: Our first episode is live! 🎉\n",
            "\n",
            "@donjuliobruno talks with @PennyRichards1, managing director of @UK_Aspen, about how moder…\n",
            "Sentiment(polarity=0.2102272727272727, subjectivity=0.41666666666666663)\n",
            "Positive\n",
            "@make_metal @painter_nancy @blackintheempir Plus he ruined black America by creating the so called war on poverty.\n",
            "Sentiment(polarity=-0.16666666666666666, subjectivity=0.43333333333333335)\n",
            "Negative\n",
            "RT @YinOFFICIALTH: อยากมีคนเล่นตีหมอนบ้างจัง😉🤣\n",
            "\n",
            "#น้อยแต่มาก_DANxYinWar\n",
            "#yinyin_anw Yin Anan @yinyin_anw\n",
            "#warwanarat War Wanarat @warwanarat…\n",
            "Sentiment(polarity=0.0, subjectivity=0.0)\n",
            "Neutral\n",
            "RT @ZaydAlemu: .#Ethiopian government and its allies are guilty of #TigrayGenocide.  #WesternTigray\n",
            " \n",
            "Act and end the suffering of #Tigraya…\n",
            "Sentiment(polarity=-0.5, subjectivity=1.0)\n",
            "Negative\n",
            "RT @EliotHiggins: If you think war crimes accusations make your side look bad then understand war crime denialism makes it look worse. If y…\n",
            "Sentiment(polarity=-0.5499999999999999, subjectivity=0.6333333333333333)\n",
            "Negative\n",
            "@jmvasquez1974 @RipRawlings @PayPal Wtf @PayPal @PayPalDE you are supporting Putins war by this 😡😡😡\n",
            "Sentiment(polarity=-0.125, subjectivity=0.625)\n",
            "Negative\n",
            "RT @kajakallas: .@BBCYaldaHakim asked me what more we can do to help #Ukraine. We haven't done enough. So, it's critical to continue with m…\n",
            "Sentiment(polarity=0.16666666666666666, subjectivity=0.6)\n",
            "Positive\n",
            "@K296976 Introverted war markmin kubbb\n",
            "Sentiment(polarity=0.0, subjectivity=0.0)\n",
            "Neutral\n",
            "RT @wedi_hayelom11: #TigrayGenocide \n",
            "#CallItAGenocide \n",
            "Ethiopia, Eritrea, &amp; Amhara regional milishas are guilty of rape, gang rape, Looting…\n",
            "Sentiment(polarity=-0.5, subjectivity=1.0)\n",
            "Negative\n",
            "RT @KyivIndependent: ⚡️Foreign minister: Battle of Donbas will be similar to World War II.\n",
            "\n",
            "“This will not be a local operation based on wh…\n",
            "Sentiment(polarity=0.0, subjectivity=0.2)\n",
            "Neutral\n",
            "@iemughal ❤️\n",
            "Sentiment(polarity=0.0, subjectivity=0.0)\n",
            "Neutral\n",
            "RT @washingtonpost: Russia-Ukraine live updates: Zelensky warns Kremlin may use Mariupol for propaganda; residents, diplomats return to Kyi…\n",
            "Sentiment(polarity=0.018181818181818174, subjectivity=0.3)\n",
            "Positive\n",
            "RT @TheoryofYinWar: ซีนถือเค้กมาเซอร์ไพรส์ใน MV กับในชีวิตจริงนี่ยิ้มไม่ต่างกันเลยนะคะ\n",
            "ก็เล่นเป็นตัวเองอะเนาะ \n",
            "Based on Real life 🌚🌝\n",
            "\n",
            "#น้อย…\n",
            "Sentiment(polarity=0.2, subjectivity=0.30000000000000004)\n",
            "Positive\n",
            "@Serge29948835 @DingoWTF58 @KyivIndependent Then i got you…but a lot of people want to fight for their rights, and… https://t.co/Fm2WTRSU8k\n",
            "Sentiment(polarity=0.0, subjectivity=0.0)\n",
            "Neutral\n",
            "RT @warareone: ค้นพบแล้วว่าใครมากมายไม่เคยสำคัญ \n",
            "เท่าการได้พบคนคนเดียวที่มีค่าเหลือเกิน🎵♥️\n",
            "war wanarat\n",
            "yin anan\n",
            "\n",
            "#น้อยแต่มาก_DANxYinWar\n",
            "@wa…\n",
            "Sentiment(polarity=0.0, subjectivity=0.0)\n",
            "Neutral\n"
          ]
        }
      ]
    },
    {
      "cell_type": "code",
      "source": [
        "plt.xlabel(\"Tags\")\n",
        "plt.ylabel(\"Polarity\")\n",
        "plt.pie([pos, neg, neu], labels = ['pos', 'neg', 'neu'], autopct = \"%1.1f%%\")\n",
        "plt.show()"
      ],
      "metadata": {
        "colab": {
          "base_uri": "https://localhost:8080/",
          "height": 262
        },
        "id": "2AN0T6-Y2YKd",
        "outputId": "3850eafd-2635-4f52-94f3-7bbe8af90626"
      },
      "execution_count": 13,
      "outputs": [
        {
          "output_type": "display_data",
          "data": {
            "text/plain": [
              "<Figure size 432x288 with 1 Axes>"
            ],
            "image/png": "[encoded data removed]"
          },
          "metadata": {}
        }
      ]
    }
  ]
}