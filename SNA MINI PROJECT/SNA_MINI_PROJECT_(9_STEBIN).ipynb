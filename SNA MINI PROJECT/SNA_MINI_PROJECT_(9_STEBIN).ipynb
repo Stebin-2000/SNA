{
  "nbformat": 4,
  "nbformat_minor": 0,
  "metadata": {
    "colab": {
      "name": "SNA MINI PROJECT (STEBIN_9).ipynb",
      "provenance": []
    },
    "kernelspec": {
      "name": "python3",
      "display_name": "Python 3"
    },
    "language_info": {
      "name": "python"
    }
  },
  "cells": [
    {
      "cell_type": "code",
      "execution_count": 14,
      "metadata": {
        "id": "qWlE6GrhuU9C"
      },
      "outputs": [],
      "source": [
        "import tweepy\n",
        "from textblob import TextBlob\n",
        "import matplotlib.pyplot as plt"
      ]
    },
    {
      "cell_type": "code",
      "source": [
        "consumer_key = 'qHDlZqswgH4LoA8cUAiEKEXQs'\n",
        "consumer_secret = 'Wu9WL4PLJWj41Iu2hRfezqwChmHOVoYiMHz6NFu7ZMY1QNtgdq'\n",
        "access_token = '1512020358597324800-89OgoCg5zK8P4zI5mjCnvJ3tlUe0QJ'\n",
        "access_token_secret = 'YjiwwCMxZOUuGXbUxR08F2g48faizwRMtUiqrQ9sw36Xw'\n",
        "auth = tweepy.OAuthHandler(consumer_key,consumer_secret)\n",
        "auth.set_access_token(access_token, access_token_secret)\n",
        "api = tweepy.API(auth)\n",
        "public_tweets = api.search('war')\n",
        "\n",
        "pos = 0\n",
        "neg = 0\n",
        "neu = 0\n",
        "\n",
        "for tweet in public_tweets:\n",
        "  print(tweet.text)\n",
        "\n",
        "  analysis = TextBlob(tweet.text)\n",
        "  print(analysis.sentiment)\n",
        "\n",
        "  if analysis.sentiment.polarity > 0:\n",
        "    print(\"Positive\")\n",
        "    pos += 1\n",
        "  \n",
        "  if analysis.sentiment.polarity == 0:\n",
        "    print(\"Neutral\")\n",
        "    neu += 1\n",
        "\n",
        "  if analysis.sentiment.polarity < 0:\n",
        "    print(\"Negative\")\n",
        "    neg += 1"
      ],
      "metadata": {
        "colab": {
          "base_uri": "https://localhost:8080/"
        },
        "id": "DSsLAyzR2UOf",
        "outputId": "1b96577e-0441-4547-a7f9-6a8a5ba37a43"
      },
      "execution_count": 17,
      "outputs": [
        {
          "output_type": "stream",
          "name": "stdout",
          "text": [
            "RT @KyivIndependent: ⚡️Der Spiegel: Russian soldiers discussed killing civilians in Bucha by radio.\n",
            "\n",
            "The conversations have been intercepte…\n",
            "Sentiment(polarity=0.0, subjectivity=0.0)\n",
            "Neutral\n",
            "RT @TheoryofYinWar: โซฟายาวแล้วไงอะ จะนั่งใกล้ ๆ แฟนอะ\n",
            "\n",
            "#หยิ่นวอร์ #yinyin_anw @yinyin_anw Yin Anan #warwanarat @warwanarat War Wanarat htt…\n",
            "Sentiment(polarity=0.0, subjectivity=0.0)\n",
            "Neutral\n",
            "RT @republic: #ArnabZelenskyyInterview | We want to put an end to this war, it is on our territory. It's a war between Russia and Ukraine o…\n",
            "Sentiment(polarity=0.0, subjectivity=0.0)\n",
            "Neutral\n",
            "RT @SupportHouseYW: 2 ทุ่มคืนนี้ มาพาสามหนุ่มสุดหล่อขึ้นเทรนกันนนน\n",
            "\n",
            "เริ่มเล่น # เวลา 20:00 น. เป็นต้นไป\n",
            " &gt;&gt; # น้อยแต่มาก_DANxYinWar &lt;&lt;\n",
            "\n",
            "**ข…\n",
            "Sentiment(polarity=0.0, subjectivity=0.0)\n",
            "Neutral\n",
            "I guess someone in the room wants war eh great speech! https://t.co/d1PhEvgv03\n",
            "Sentiment(polarity=0.6, subjectivity=0.425)\n",
            "Positive\n",
            "RT @YWChinaFamily: Bad Dream BTS Project\n",
            "\n",
            "⏰6:00 am-24:00pm\n",
            "📍Siam station、Asok station &amp; National stadium station\n",
            "🗓️April 10th - April 19th…\n",
            "Sentiment(polarity=-0.6999999999999998, subjectivity=0.6666666666666666)\n",
            "Negative\n",
            "@POTUS @KamalaHarris @JustinTrudeau @BorisJohnson @JPN_PMO Russia should not be sitting on @UN security council. Th… https://t.co/gnhIbW45Wy\n",
            "Sentiment(polarity=0.0, subjectivity=0.0)\n",
            "Neutral\n",
            "RT @thorstenbenner: \"🇩🇪 Gesellschaft wollte Besänftigung. Östliches Europa war für allermeisten Verfügungsmasse, um übergeordnetes Ziel Sta…\n",
            "Sentiment(polarity=0.0, subjectivity=0.0)\n",
            "Neutral\n",
            "RT @zoyashef: But if Russians don't change course, \"if nothing changes – then it is suicide,” Zelenskyy says. “Suicide for all those who ch…\n",
            "Sentiment(polarity=0.0, subjectivity=0.0)\n",
            "Neutral\n",
            "RT @detoxconflict: How has the war in #Tigray impacted its landscape level environmental restoration programme?\n",
            "\n",
            "On 26/04 join us as we lau…\n",
            "Sentiment(polarity=0.0, subjectivity=0.0)\n",
            "Neutral\n",
            "RT @TommasoVirgili_: Horror beyond words. The butcher #Putin must be stopped. Reopen nuclear and carbon plants and stop funding his atrocit…\n",
            "Sentiment(polarity=0.0, subjectivity=0.0)\n",
            "Neutral\n",
            "Ballito runners set off in support of Ukraine war victims\n",
            "\n",
            "https://t.co/2jSzmtmLGZ\n",
            "Sentiment(polarity=0.0, subjectivity=0.0)\n",
            "Neutral\n",
            "I believed that Ukraine will win this fight but what about the civilians?\n",
            "They are involved in it and yet losing th… https://t.co/Vz7qX65iUO\n",
            "Sentiment(polarity=0.8, subjectivity=0.4)\n",
            "Positive\n",
            "ENEMY OF THE STATE+X-FILES\n",
            "Time's running out—a sassy tech-whiz must\n",
            "🕵EVADE a 23rdCen. black ops unit\n",
            "☠️PROVE she’s… https://t.co/koBksXtEVI\n",
            "Sentiment(polarity=-0.16666666666666666, subjectivity=0.43333333333333335)\n",
            "Negative\n",
            "#Conchy Thursday! War and snacks are on #James Childress agenda this time around. #comicstrips https://t.co/5A6VbRN2XS\n",
            "Sentiment(polarity=0.0, subjectivity=0.0)\n",
            "Neutral\n"
          ]
        }
      ]
    },
    {
      "cell_type": "code",
      "source": [
        "plt.xlabel(\"Tags\")\n",
        "plt.ylabel(\"Polarity\")\n",
        "plt.pie([pos, neg, neu], labels = ['pos', 'neg', 'neu'], autopct = \"%1.1f%%\")\n",
        "plt.show()"
      ],
      "metadata": {
        "colab": {
          "base_uri": "https://localhost:8080/",
          "height": 262
        },
        "id": "2AN0T6-Y2YKd",
        "outputId": "254f27dd-b0ad-4d50-8139-59ae8d83c2c0"
      },
      "execution_count": 16,
      "outputs": [
        {
          "output_type": "display_data",
          "data": {
            "text/plain": [
              "<Figure size 432x288 with 1 Axes>"
            ],
            "image/png": "[encoded data removed]"
          },
          "metadata": {}
        }
      ]
    }
  ]
}